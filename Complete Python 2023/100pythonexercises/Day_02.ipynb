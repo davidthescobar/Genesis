{
 "cells": [
  {
   "cell_type": "markdown",
   "id": "644e25f2",
   "metadata": {},
   "source": [
    "# Exercise 4"
   ]
  },
  {
   "cell_type": "code",
   "execution_count": 23,
   "id": "7873f325",
   "metadata": {},
   "outputs": [
    {
     "name": "stdout",
     "output_type": "stream",
     "text": [
      "34,67,55,33,12,98\n",
      "['34', '67', '55', '33', '12', '98'] ('34', '67', '55', '33', '12', '98')\n"
     ]
    }
   ],
   "source": [
    "# Stores input as string\n",
    "user = input()\n",
    "# Uses str method \"split\" to separate values at ',' and returns in a list\n",
    "li = list(user.split(','))\n",
    "# Uses str method \"split\" to separate values at ',' and returns in a tuple\n",
    "tpl = tuple(user.split(','))\n",
    "\n",
    "print(li, tup)"
   ]
  },
  {
   "cell_type": "markdown",
   "id": "c283bbfb",
   "metadata": {},
   "source": [
    "# Exercise 5"
   ]
  },
  {
   "cell_type": "code",
   "execution_count": 41,
   "id": "d2f9c38d",
   "metadata": {},
   "outputs": [
    {
     "name": "stdout",
     "output_type": "stream",
     "text": [
      "t\n",
      "T\n"
     ]
    }
   ],
   "source": [
    "class PrintStr():\n",
    "    def __init__(self):\n",
    "        pass\n",
    "       \n",
    "    def get_string(self):\n",
    "        self.user = str(input())\n",
    "        \n",
    "    def print_string(self):\n",
    "        print(self.user.upper())\n",
    "\n",
    "ps = PrintStr()\n",
    "ps.get_string()\n",
    "ps.print_string()"
   ]
  },
  {
   "cell_type": "markdown",
   "id": "97f5b1af",
   "metadata": {},
   "source": [
    "# Exercise 6"
   ]
  },
  {
   "cell_type": "code",
   "execution_count": 54,
   "id": "a4952d59",
   "metadata": {},
   "outputs": [
    {
     "name": "stdout",
     "output_type": "stream",
     "text": [
      "100,150,180\n",
      "18\n",
      "22\n",
      "24\n"
     ]
    }
   ],
   "source": [
    "from math import sqrt\n",
    "\n",
    "c,h = 50, 30\n",
    "li = list(input().split(','))\n",
    "\n",
    "for i in li:\n",
    "    q = sqrt(((2*c*int(i)/h)))\n",
    "    print(round(q))"
   ]
  },
  {
   "cell_type": "code",
   "execution_count": null,
   "id": "d1d8009e",
   "metadata": {},
   "outputs": [],
   "source": []
  }
 ],
 "metadata": {
  "kernelspec": {
   "display_name": "Python 3 (ipykernel)",
   "language": "python",
   "name": "python3"
  },
  "language_info": {
   "codemirror_mode": {
    "name": "ipython",
    "version": 3
   },
   "file_extension": ".py",
   "mimetype": "text/x-python",
   "name": "python",
   "nbconvert_exporter": "python",
   "pygments_lexer": "ipython3",
   "version": "3.10.9"
  }
 },
 "nbformat": 4,
 "nbformat_minor": 5
}
