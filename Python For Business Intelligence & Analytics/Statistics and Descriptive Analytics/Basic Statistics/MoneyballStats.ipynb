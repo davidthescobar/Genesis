{
 "cells": [
  {
   "cell_type": "markdown",
   "id": "f7ca2df6",
   "metadata": {},
   "source": [
    "# Libraries, Directories, and Data"
   ]
  },
  {
   "cell_type": "code",
   "execution_count": 1,
   "id": "e58b4cfa",
   "metadata": {},
   "outputs": [],
   "source": [
    "# Libraries\n",
    "import pandas as pd\n",
    "import seaborn as sns"
   ]
  },
  {
   "cell_type": "code",
   "execution_count": 2,
   "id": "7192af16",
   "metadata": {},
   "outputs": [
    {
     "data": {
      "text/html": [
       "<div>\n",
       "<style scoped>\n",
       "    .dataframe tbody tr th:only-of-type {\n",
       "        vertical-align: middle;\n",
       "    }\n",
       "\n",
       "    .dataframe tbody tr th {\n",
       "        vertical-align: top;\n",
       "    }\n",
       "\n",
       "    .dataframe thead th {\n",
       "        text-align: right;\n",
       "    }\n",
       "</style>\n",
       "<table border=\"1\" class=\"dataframe\">\n",
       "  <thead>\n",
       "    <tr style=\"text-align: right;\">\n",
       "      <th></th>\n",
       "      <th>Team</th>\n",
       "      <th>League</th>\n",
       "      <th>Year</th>\n",
       "      <th>RS</th>\n",
       "      <th>RA</th>\n",
       "      <th>W</th>\n",
       "      <th>OBP</th>\n",
       "      <th>SLG</th>\n",
       "      <th>BA</th>\n",
       "      <th>Playoffs</th>\n",
       "      <th>RankSeason</th>\n",
       "      <th>RankPlayoffs</th>\n",
       "      <th>G</th>\n",
       "      <th>OOBP</th>\n",
       "      <th>OSLG</th>\n",
       "    </tr>\n",
       "  </thead>\n",
       "  <tbody>\n",
       "    <tr>\n",
       "      <th>0</th>\n",
       "      <td>ARI</td>\n",
       "      <td>NL</td>\n",
       "      <td>2012</td>\n",
       "      <td>734</td>\n",
       "      <td>688</td>\n",
       "      <td>81</td>\n",
       "      <td>0.328</td>\n",
       "      <td>0.418</td>\n",
       "      <td>0.259</td>\n",
       "      <td>0</td>\n",
       "      <td>NaN</td>\n",
       "      <td>NaN</td>\n",
       "      <td>162</td>\n",
       "      <td>0.317</td>\n",
       "      <td>0.415</td>\n",
       "    </tr>\n",
       "    <tr>\n",
       "      <th>1</th>\n",
       "      <td>ATL</td>\n",
       "      <td>NL</td>\n",
       "      <td>2012</td>\n",
       "      <td>700</td>\n",
       "      <td>600</td>\n",
       "      <td>94</td>\n",
       "      <td>0.320</td>\n",
       "      <td>0.389</td>\n",
       "      <td>0.247</td>\n",
       "      <td>1</td>\n",
       "      <td>4.0</td>\n",
       "      <td>5.0</td>\n",
       "      <td>162</td>\n",
       "      <td>0.306</td>\n",
       "      <td>0.378</td>\n",
       "    </tr>\n",
       "    <tr>\n",
       "      <th>2</th>\n",
       "      <td>BAL</td>\n",
       "      <td>AL</td>\n",
       "      <td>2012</td>\n",
       "      <td>712</td>\n",
       "      <td>705</td>\n",
       "      <td>93</td>\n",
       "      <td>0.311</td>\n",
       "      <td>0.417</td>\n",
       "      <td>0.247</td>\n",
       "      <td>1</td>\n",
       "      <td>5.0</td>\n",
       "      <td>4.0</td>\n",
       "      <td>162</td>\n",
       "      <td>0.315</td>\n",
       "      <td>0.403</td>\n",
       "    </tr>\n",
       "    <tr>\n",
       "      <th>3</th>\n",
       "      <td>BOS</td>\n",
       "      <td>AL</td>\n",
       "      <td>2012</td>\n",
       "      <td>734</td>\n",
       "      <td>806</td>\n",
       "      <td>69</td>\n",
       "      <td>0.315</td>\n",
       "      <td>0.415</td>\n",
       "      <td>0.260</td>\n",
       "      <td>0</td>\n",
       "      <td>NaN</td>\n",
       "      <td>NaN</td>\n",
       "      <td>162</td>\n",
       "      <td>0.331</td>\n",
       "      <td>0.428</td>\n",
       "    </tr>\n",
       "    <tr>\n",
       "      <th>4</th>\n",
       "      <td>CHC</td>\n",
       "      <td>NL</td>\n",
       "      <td>2012</td>\n",
       "      <td>613</td>\n",
       "      <td>759</td>\n",
       "      <td>61</td>\n",
       "      <td>0.302</td>\n",
       "      <td>0.378</td>\n",
       "      <td>0.240</td>\n",
       "      <td>0</td>\n",
       "      <td>NaN</td>\n",
       "      <td>NaN</td>\n",
       "      <td>162</td>\n",
       "      <td>0.335</td>\n",
       "      <td>0.424</td>\n",
       "    </tr>\n",
       "  </tbody>\n",
       "</table>\n",
       "</div>"
      ],
      "text/plain": [
       "  Team League  Year   RS   RA   W    OBP    SLG     BA  Playoffs  RankSeason  \\\n",
       "0  ARI     NL  2012  734  688  81  0.328  0.418  0.259         0         NaN   \n",
       "1  ATL     NL  2012  700  600  94  0.320  0.389  0.247         1         4.0   \n",
       "2  BAL     AL  2012  712  705  93  0.311  0.417  0.247         1         5.0   \n",
       "3  BOS     AL  2012  734  806  69  0.315  0.415  0.260         0         NaN   \n",
       "4  CHC     NL  2012  613  759  61  0.302  0.378  0.240         0         NaN   \n",
       "\n",
       "   RankPlayoffs    G   OOBP   OSLG  \n",
       "0           NaN  162  0.317  0.415  \n",
       "1           5.0  162  0.306  0.378  \n",
       "2           4.0  162  0.315  0.403  \n",
       "3           NaN  162  0.331  0.428  \n",
       "4           NaN  162  0.335  0.424  "
      ]
     },
     "execution_count": 2,
     "metadata": {},
     "output_type": "execute_result"
    }
   ],
   "source": [
    "# Load the dataset\n",
    "df = pd.read_csv('Baseball.csv')\n",
    "df.head()"
   ]
  },
  {
   "cell_type": "markdown",
   "id": "28c2735a",
   "metadata": {},
   "source": [
    "## Mean"
   ]
  },
  {
   "cell_type": "code",
   "execution_count": 3,
   "id": "f2254f8b",
   "metadata": {},
   "outputs": [],
   "source": [
    "# 1: Where is the data?\n",
    "# - In our DataFrame (df)\n",
    "# 2: What is the data?\n",
    "# - strings\n",
    "# 3: What do we we want to do with the data?\n",
    "# - Find the mean, mean for only the CHC team, mean since 2005 and for the CHC team"
   ]
  },
  {
   "cell_type": "code",
   "execution_count": 4,
   "id": "796fdb85",
   "metadata": {},
   "outputs": [
    {
     "data": {
      "text/plain": [
       "729.0"
      ]
     },
     "execution_count": 4,
     "metadata": {},
     "output_type": "execute_result"
    }
   ],
   "source": [
    "# Mean of Runs Scored (RS)\n",
    "df.RS.mean()\n",
    "# Mean of Runs Scored (RS) by the Chicago Team (CHC)\n",
    "df.loc[df.Team == 'CHC'].RS.mean()\n",
    "# Mean of Runs Scored (RS) by the Chicago Team (CHC) Since 2005\n",
    "df[df['Year']>2005].loc[df.Team == 'ARI'].RS.mean()"
   ]
  },
  {
   "cell_type": "code",
   "execution_count": 5,
   "id": "db6c2fa4",
   "metadata": {},
   "outputs": [],
   "source": [
    "# Question: What is the mean of Runs Allowed (RA) by the Chicago (CHC) team until 2007?"
   ]
  },
  {
   "cell_type": "code",
   "execution_count": 6,
   "id": "fe6f50e1",
   "metadata": {},
   "outputs": [
    {
     "data": {
      "text/plain": [
       "728.170731707317"
      ]
     },
     "execution_count": 6,
     "metadata": {},
     "output_type": "execute_result"
    }
   ],
   "source": [
    "df.loc[(df.Team == 'CHC') & (df.Year < 2007)].RA.mean()"
   ]
  },
  {
   "cell_type": "markdown",
   "id": "dee1c13c",
   "metadata": {},
   "source": [
    "## Median "
   ]
  },
  {
   "cell_type": "code",
   "execution_count": 7,
   "id": "6052c2d7",
   "metadata": {},
   "outputs": [
    {
     "name": "stdout",
     "output_type": "stream",
     "text": [
      "Mean:  80.90422077922078\n",
      "Median:  77.0\n"
     ]
    },
    {
     "data": {
      "text/plain": [
       "0    83\n",
       "Name: W, dtype: int64"
      ]
     },
     "execution_count": 7,
     "metadata": {},
     "output_type": "execute_result"
    }
   ],
   "source": [
    "# Median and Mean of Wins (W)\n",
    "print('Mean: ', df.W.mean())\n",
    "print('Median: ', df.loc[(df.Team == 'CHC')].W.median())\n",
    "df.W.mode()"
   ]
  },
  {
   "cell_type": "code",
   "execution_count": 8,
   "id": "1375d29c",
   "metadata": {},
   "outputs": [],
   "source": [
    "# Question: What is the median of Wins (W) of the Baltimore (BAL) team, until 2000?"
   ]
  },
  {
   "cell_type": "code",
   "execution_count": 9,
   "id": "5421afaa",
   "metadata": {},
   "outputs": [
    {
     "data": {
      "text/plain": [
       "89.5"
      ]
     },
     "execution_count": 9,
     "metadata": {},
     "output_type": "execute_result"
    }
   ],
   "source": [
    "# Median Wins for the Baltimore (BAL) Team until 2000:\n",
    "df.loc[((df.Team == 'BAL') & (df.Year < 2000))].W.median()"
   ]
  },
  {
   "cell_type": "markdown",
   "id": "f271a661",
   "metadata": {},
   "source": [
    "## Mode"
   ]
  },
  {
   "cell_type": "code",
   "execution_count": 10,
   "id": "14e47b63",
   "metadata": {},
   "outputs": [
    {
     "name": "stdout",
     "output_type": "stream",
     "text": [
      "32 \b%\n",
      "32 \b%\n"
     ]
    },
    {
     "data": {
      "text/plain": [
       "0    0.322\n",
       "Name: OBP, dtype: float64"
      ]
     },
     "execution_count": 10,
     "metadata": {},
     "output_type": "execute_result"
    }
   ],
   "source": [
    "# Mode, Median, and Mean of On-Base-Percentage (OBP)\n",
    "import math\n",
    "print(math.trunc(df.OBP.mean() * 100), '\\b%')\n",
    "print(math.trunc(df.OBP.median() * 100), '\\b%')\n",
    "df.OBP.mode()"
   ]
  },
  {
   "cell_type": "code",
   "execution_count": 11,
   "id": "c35b266c",
   "metadata": {},
   "outputs": [],
   "source": [
    "# Question: mode of OBP during the year 2010?"
   ]
  },
  {
   "cell_type": "code",
   "execution_count": 12,
   "id": "886882a5",
   "metadata": {},
   "outputs": [
    {
     "data": {
      "text/plain": [
       "0    0.332\n",
       "Name: OBP, dtype: float64"
      ]
     },
     "execution_count": 12,
     "metadata": {},
     "output_type": "execute_result"
    }
   ],
   "source": [
    "# Mode of On-Base-Percentage (OBP) during 2010:\n",
    "df.loc[(df.Year == 2010)].OBP.mode()"
   ]
  },
  {
   "cell_type": "markdown",
   "id": "757e192a",
   "metadata": {},
   "source": [
    "## Correlation"
   ]
  },
  {
   "cell_type": "code",
   "execution_count": 13,
   "id": "3b39396b",
   "metadata": {},
   "outputs": [
    {
     "data": {
      "text/html": [
       "<div>\n",
       "<style scoped>\n",
       "    .dataframe tbody tr th:only-of-type {\n",
       "        vertical-align: middle;\n",
       "    }\n",
       "\n",
       "    .dataframe tbody tr th {\n",
       "        vertical-align: top;\n",
       "    }\n",
       "\n",
       "    .dataframe thead th {\n",
       "        text-align: right;\n",
       "    }\n",
       "</style>\n",
       "<table border=\"1\" class=\"dataframe\">\n",
       "  <thead>\n",
       "    <tr style=\"text-align: right;\">\n",
       "      <th></th>\n",
       "      <th>RS</th>\n",
       "      <th>RA</th>\n",
       "      <th>W</th>\n",
       "    </tr>\n",
       "  </thead>\n",
       "  <tbody>\n",
       "    <tr>\n",
       "      <th>0</th>\n",
       "      <td>734</td>\n",
       "      <td>688</td>\n",
       "      <td>81</td>\n",
       "    </tr>\n",
       "    <tr>\n",
       "      <th>1</th>\n",
       "      <td>700</td>\n",
       "      <td>600</td>\n",
       "      <td>94</td>\n",
       "    </tr>\n",
       "    <tr>\n",
       "      <th>2</th>\n",
       "      <td>712</td>\n",
       "      <td>705</td>\n",
       "      <td>93</td>\n",
       "    </tr>\n",
       "    <tr>\n",
       "      <th>3</th>\n",
       "      <td>734</td>\n",
       "      <td>806</td>\n",
       "      <td>69</td>\n",
       "    </tr>\n",
       "    <tr>\n",
       "      <th>4</th>\n",
       "      <td>613</td>\n",
       "      <td>759</td>\n",
       "      <td>61</td>\n",
       "    </tr>\n",
       "  </tbody>\n",
       "</table>\n",
       "</div>"
      ],
      "text/plain": [
       "    RS   RA   W\n",
       "0  734  688  81\n",
       "1  700  600  94\n",
       "2  712  705  93\n",
       "3  734  806  69\n",
       "4  613  759  61"
      ]
     },
     "execution_count": 13,
     "metadata": {},
     "output_type": "execute_result"
    }
   ],
   "source": [
    "# Pick Features\n",
    "df_correlation = df[['RS','RA','W']]\n",
    "df_correlation.head()"
   ]
  },
  {
   "cell_type": "code",
   "execution_count": 14,
   "id": "795ff0e3",
   "metadata": {},
   "outputs": [
    {
     "data": {
      "text/html": [
       "<div>\n",
       "<style scoped>\n",
       "    .dataframe tbody tr th:only-of-type {\n",
       "        vertical-align: middle;\n",
       "    }\n",
       "\n",
       "    .dataframe tbody tr th {\n",
       "        vertical-align: top;\n",
       "    }\n",
       "\n",
       "    .dataframe thead th {\n",
       "        text-align: right;\n",
       "    }\n",
       "</style>\n",
       "<table border=\"1\" class=\"dataframe\">\n",
       "  <thead>\n",
       "    <tr style=\"text-align: right;\">\n",
       "      <th></th>\n",
       "      <th>RS</th>\n",
       "      <th>RA</th>\n",
       "      <th>W</th>\n",
       "    </tr>\n",
       "  </thead>\n",
       "  <tbody>\n",
       "    <tr>\n",
       "      <th>RS</th>\n",
       "      <td>1.000000</td>\n",
       "      <td>0.380139</td>\n",
       "      <td>0.511745</td>\n",
       "    </tr>\n",
       "    <tr>\n",
       "      <th>RA</th>\n",
       "      <td>0.380139</td>\n",
       "      <td>1.000000</td>\n",
       "      <td>-0.532394</td>\n",
       "    </tr>\n",
       "    <tr>\n",
       "      <th>W</th>\n",
       "      <td>0.511745</td>\n",
       "      <td>-0.532394</td>\n",
       "      <td>1.000000</td>\n",
       "    </tr>\n",
       "  </tbody>\n",
       "</table>\n",
       "</div>"
      ],
      "text/plain": [
       "          RS        RA         W\n",
       "RS  1.000000  0.380139  0.511745\n",
       "RA  0.380139  1.000000 -0.532394\n",
       "W   0.511745 -0.532394  1.000000"
      ]
     },
     "execution_count": 14,
     "metadata": {},
     "output_type": "execute_result"
    }
   ],
   "source": [
    "# Correlation Matrix:\n",
    "df_correlation.corr()"
   ]
  },
  {
   "cell_type": "code",
   "execution_count": 15,
   "id": "48e471a5",
   "metadata": {},
   "outputs": [
    {
     "data": {
      "text/plain": [
       "<Axes: >"
      ]
     },
     "execution_count": 15,
     "metadata": {},
     "output_type": "execute_result"
    },
    {
     "data": {
      "image/png": "[encoded data removed]",
      "text/plain": [
       "<Figure size 640x480 with 2 Axes>"
      ]
     },
     "metadata": {},
     "output_type": "display_data"
    }
   ],
   "source": [
    "# Correlation heatmap\n",
    "sns.heatmap(data = df_correlation.corr(),\n",
    "           annot = True,\n",
    "           center = 0,\n",
    "            fmt = '.2g',\n",
    "            cmap = 'coolwarm',\n",
    "           linewidths = 1,\n",
    "           linecolor = 'white')"
   ]
  },
  {
   "cell_type": "code",
   "execution_count": 16,
   "id": "8019132a",
   "metadata": {},
   "outputs": [],
   "source": [
    "# Challenge: correlation matrix between OBP, SLG, and BA. Create a heatmap with two params changed."
   ]
  },
  {
   "cell_type": "code",
   "execution_count": 17,
   "id": "8752cfef",
   "metadata": {},
   "outputs": [
    {
     "data": {
      "text/html": [
       "<div>\n",
       "<style scoped>\n",
       "    .dataframe tbody tr th:only-of-type {\n",
       "        vertical-align: middle;\n",
       "    }\n",
       "\n",
       "    .dataframe tbody tr th {\n",
       "        vertical-align: top;\n",
       "    }\n",
       "\n",
       "    .dataframe thead th {\n",
       "        text-align: right;\n",
       "    }\n",
       "</style>\n",
       "<table border=\"1\" class=\"dataframe\">\n",
       "  <thead>\n",
       "    <tr style=\"text-align: right;\">\n",
       "      <th></th>\n",
       "      <th>OBP</th>\n",
       "      <th>SLG</th>\n",
       "      <th>BA</th>\n",
       "    </tr>\n",
       "  </thead>\n",
       "  <tbody>\n",
       "    <tr>\n",
       "      <th>OBP</th>\n",
       "      <td>1.000000</td>\n",
       "      <td>0.790910</td>\n",
       "      <td>0.851958</td>\n",
       "    </tr>\n",
       "    <tr>\n",
       "      <th>SLG</th>\n",
       "      <td>0.790910</td>\n",
       "      <td>1.000000</td>\n",
       "      <td>0.790481</td>\n",
       "    </tr>\n",
       "    <tr>\n",
       "      <th>BA</th>\n",
       "      <td>0.851958</td>\n",
       "      <td>0.790481</td>\n",
       "      <td>1.000000</td>\n",
       "    </tr>\n",
       "  </tbody>\n",
       "</table>\n",
       "</div>"
      ],
      "text/plain": [
       "          OBP       SLG        BA\n",
       "OBP  1.000000  0.790910  0.851958\n",
       "SLG  0.790910  1.000000  0.790481\n",
       "BA   0.851958  0.790481  1.000000"
      ]
     },
     "execution_count": 17,
     "metadata": {},
     "output_type": "execute_result"
    }
   ],
   "source": [
    "# Correlation Matrix:\n",
    "df_corr = df[['OBP','SLG','BA']]\n",
    "df_corr.corr()"
   ]
  },
  {
   "cell_type": "code",
   "execution_count": 18,
   "id": "6144d3bf",
   "metadata": {},
   "outputs": [
    {
     "data": {
      "text/plain": [
       "<Axes: >"
      ]
     },
     "execution_count": 18,
     "metadata": {},
     "output_type": "execute_result"
    },
    {
     "data": {
      "image/png": "[encoded data removed]",
      "text/plain": [
       "<Figure size 640x480 with 2 Axes>"
      ]
     },
     "metadata": {},
     "output_type": "display_data"
    }
   ],
   "source": [
    "# Correlation Matrix Heatmap:\n",
    "sns.set_theme()\n",
    "sns.heatmap(data = df_corr.corr(),\n",
    "           annot = True,\n",
    "           fmt = '.1g',\n",
    "           square = False,\n",
    "           center = 1.7,\n",
    "           cmap = 'PuBu_r',\n",
    "           linewidth = 1,\n",
    "           linecolor = 'white')"
   ]
  },
  {
   "cell_type": "markdown",
   "id": "459c89e2",
   "metadata": {},
   "source": [
    "# Standard Deviation"
   ]
  },
  {
   "cell_type": "code",
   "execution_count": 19,
   "id": "7d0fbcbe",
   "metadata": {},
   "outputs": [
    {
     "name": "stdout",
     "output_type": "stream",
     "text": [
      "0.3322642857142857\n"
     ]
    },
    {
     "data": {
      "text/plain": [
       "0.015295316041389943"
      ]
     },
     "execution_count": 19,
     "metadata": {},
     "output_type": "execute_result"
    }
   ],
   "source": [
    "# Standard Deviation\n",
    "print(df.OOBP.mean())\n",
    "df.OOBP.std()"
   ]
  },
  {
   "cell_type": "code",
   "execution_count": 20,
   "id": "e9f00637",
   "metadata": {},
   "outputs": [],
   "source": [
    "# Question: What is the Standard Deviation of BA?"
   ]
  },
  {
   "cell_type": "code",
   "execution_count": 21,
   "id": "07e4fb46",
   "metadata": {},
   "outputs": [
    {
     "name": "stdout",
     "output_type": "stream",
     "text": [
      "0.25927272727272727\n"
     ]
    },
    {
     "data": {
      "text/plain": [
       "0.012907228928000327"
      ]
     },
     "execution_count": 21,
     "metadata": {},
     "output_type": "execute_result"
    }
   ],
   "source": [
    "# Standard Deviation of BA:\n",
    "print(df.BA.mean())\n",
    "df.BA.std()"
   ]
  },
  {
   "cell_type": "code",
   "execution_count": null,
   "id": "6e711fd8",
   "metadata": {},
   "outputs": [],
   "source": []
  }
 ],
 "metadata": {
  "kernelspec": {
   "display_name": "Python 3 (ipykernel)",
   "language": "python",
   "name": "python3"
  },
  "language_info": {
   "codemirror_mode": {
    "name": "ipython",
    "version": 3
   },
   "file_extension": ".py",
   "mimetype": "text/x-python",
   "name": "python",
   "nbconvert_exporter": "python",
   "pygments_lexer": "ipython3",
   "version": "3.10.9"
  }
 },
 "nbformat": 4,
 "nbformat_minor": 5
}
